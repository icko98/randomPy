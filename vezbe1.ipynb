{
 "cells": [
  {
   "cell_type": "code",
   "execution_count": 2,
   "id": "a1f9a978",
   "metadata": {},
   "outputs": [],
   "source": [
    "import numpy as np\n"
   ]
  },
  {
   "cell_type": "code",
   "execution_count": 12,
   "id": "9acd1516",
   "metadata": {},
   "outputs": [
    {
     "name": "stdout",
     "output_type": "stream",
     "text": [
      "14\n"
     ]
    }
   ],
   "source": [
    "def sum_d(mat):\n",
    "    x,y = mat.shape\n",
    "    xsum=0\n",
    "    if x!=y:\n",
    "        return \"nije kvadratna\"\n",
    "    for i in range(x):\n",
    "        xsum=xsum+mat[i,i]\n",
    "    return xsum\n",
    "if __name__ == \"__main__\":\n",
    "\n",
    "    a = np.array([[2, 1, 6, 1],\n",
    "\n",
    "                  [1, 3, 8, 2],\n",
    "\n",
    "                  [5, 9, 4, 3],\n",
    "\n",
    "                  [1, 1, 8, 5]])\n",
    "\n",
    "                 \n",
    "\n",
    "    print(sum_d(a))"
   ]
  },
  {
   "cell_type": "code",
   "execution_count": 18,
   "id": "a77fddd3",
   "metadata": {},
   "outputs": [
    {
     "name": "stdout",
     "output_type": "stream",
     "text": [
      "137\n"
     ]
    }
   ],
   "source": [
    "def sum_greater(mat):\n",
    "    avrg=np.average(mat)\n",
    "    xsum=0\n",
    "    for x in mat:\n",
    "        for y in x:\n",
    "            if y>avrg:\n",
    "                xsum=xsum+y\n",
    "    return xsum\n",
    "if __name__ == \"__main__\":\n",
    "\n",
    "    a = np.array([[2, 1, 2, 6, 8, 1, -2],\n",
    "\n",
    "                  [15, 4, 7, 18, 4, 0, 12],\n",
    "\n",
    "                  [11, 6, 9, -1, 4, 8, 0],\n",
    "\n",
    "                  [2, 8, 6, 8, 1, 8, 7]])\n",
    "\n",
    "                 \n",
    "\n",
    "    print(sum_greater(a))"
   ]
  },
  {
   "cell_type": "code",
   "execution_count": 33,
   "id": "685e7a42",
   "metadata": {},
   "outputs": [
    {
     "name": "stdout",
     "output_type": "stream",
     "text": [
      "[2. 2. 0.]\n"
     ]
    }
   ],
   "source": [
    "def nzmsta(mat):\n",
    "    x,y=mat.shape\n",
    "    xxx=np.zeros(y)\n",
    "    w=0\n",
    "    for i in mat:\n",
    "        q=0\n",
    "        for z in i:\n",
    "            if z<xxx[q]:\n",
    "                xxx[q]=w\n",
    "            q=q+1\n",
    "        w=w+1\n",
    "    return xxx\n",
    "    \n",
    "if __name__ == \"__main__\":\n",
    "\n",
    "    a = np.array([[-2, 5, -3],\n",
    "                  [-1, -1, 0],\n",
    "                  [-3, -5, 1]])\n",
    "\n",
    "                 \n",
    "\n",
    "    print(nzmsta(a))"
   ]
  },
  {
   "cell_type": "code",
   "execution_count": 7,
   "id": "9c5fbff0",
   "metadata": {},
   "outputs": [
    {
     "name": "stdout",
     "output_type": "stream",
     "text": [
      "[ 9.5 -1.  -9. ]\n"
     ]
    }
   ],
   "source": [
    "def stab(mat):\n",
    "    rows, cols = mat.shape\n",
    "    b=np.zeros(rows)\n",
    "    fdiag = rows-1\n",
    "    bindex = 0\n",
    "    xrow = 0;\n",
    "    for row in mat:\n",
    "        for x in row:\n",
    "            b[bindex]+= x; \n",
    "        b[bindex]-= mat[xrow, fdiag]\n",
    "        bindex+=1\n",
    "        fdiag-=1\n",
    "        xrow+=1\n",
    "    return b\n",
    "        \n",
    "    \n",
    "if __name__ == \"__main__\":\n",
    "\n",
    "    a = np.array([[-0.5, 10, 2],\n",
    "                  [-1, 1, 0],\n",
    "                  [1, -6, -3]])\n",
    "\n",
    "                 \n",
    "\n",
    "    print(stab(a))"
   ]
  },
  {
   "cell_type": "code",
   "execution_count": 23,
   "id": "95adf89a",
   "metadata": {},
   "outputs": [
    {
     "name": "stdout",
     "output_type": "stream",
     "text": [
      "[0]\n",
      "[2]\n"
     ]
    }
   ],
   "source": [
    "def zad5(mat):\n",
    "    b = np.zeros(2)\n",
    "    x = np.amin(np.diagonal(mat))\n",
    "    y = np.amin(np.diagonal(np.fliplr(mat)))\n",
    "    xmin = min(x, y)\n",
    "    b = np.where(mat==xmin)\n",
    "    return b\n",
    "    \n",
    "if __name__ == \"__main__\":\n",
    "\n",
    "    a = np.array([[-2, 5, -7],\n",
    "                  [-1, -1, -8],\n",
    "                  [-3, -5, 1]])\n",
    "\n",
    "                 \n",
    "\n",
    "    ooo = zad5(a)\n",
    "    print(ooo[0])\n",
    "    print(ooo[1])"
   ]
  },
  {
   "cell_type": "code",
   "execution_count": 29,
   "id": "b3745215",
   "metadata": {},
   "outputs": [
    {
     "ename": "ValueError",
     "evalue": "Input must be >= 2-d.",
     "output_type": "error",
     "traceback": [
      "\u001b[1;31m---------------------------------------------------------------------------\u001b[0m",
      "\u001b[1;31mValueError\u001b[0m                                Traceback (most recent call last)",
      "\u001b[1;32m<ipython-input-29-f25dd0875708>\u001b[0m in \u001b[0;36m<module>\u001b[1;34m\u001b[0m\n\u001b[0;32m     17\u001b[0m                   \u001b[1;33m[\u001b[0m\u001b[1;33m-\u001b[0m\u001b[1;36m1\u001b[0m\u001b[1;33m,\u001b[0m \u001b[1;36m4\u001b[0m\u001b[1;33m,\u001b[0m \u001b[1;36m0\u001b[0m\u001b[1;33m]\u001b[0m\u001b[1;33m,\u001b[0m\u001b[1;33m\u001b[0m\u001b[1;33m\u001b[0m\u001b[0m\n\u001b[0;32m     18\u001b[0m                   [1, 5, 2]])\n\u001b[1;32m---> 19\u001b[1;33m     \u001b[0mqqq\u001b[0m \u001b[1;33m=\u001b[0m \u001b[0mzad6\u001b[0m\u001b[1;33m(\u001b[0m\u001b[0ma\u001b[0m\u001b[1;33m)\u001b[0m\u001b[1;33m\u001b[0m\u001b[1;33m\u001b[0m\u001b[0m\n\u001b[0m\u001b[0;32m     20\u001b[0m     \u001b[0mqqq\u001b[0m\u001b[1;33m\u001b[0m\u001b[1;33m\u001b[0m\u001b[0m\n\u001b[0;32m     21\u001b[0m \u001b[1;33m\u001b[0m\u001b[0m\n",
      "\u001b[1;32m<ipython-input-29-f25dd0875708>\u001b[0m in \u001b[0;36mzad6\u001b[1;34m(mat)\u001b[0m\n\u001b[0;32m      6\u001b[0m     \u001b[1;32mfor\u001b[0m \u001b[0mrow\u001b[0m \u001b[1;32min\u001b[0m \u001b[0mmat\u001b[0m\u001b[1;33m:\u001b[0m\u001b[1;33m\u001b[0m\u001b[1;33m\u001b[0m\u001b[0m\n\u001b[0;32m      7\u001b[0m         \u001b[1;32mif\u001b[0m \u001b[0mcng\u001b[0m\u001b[1;33m:\u001b[0m\u001b[1;33m\u001b[0m\u001b[1;33m\u001b[0m\u001b[0m\n\u001b[1;32m----> 8\u001b[1;33m             \u001b[0mb\u001b[0m\u001b[1;33m[\u001b[0m\u001b[0mz\u001b[0m\u001b[1;33m]\u001b[0m \u001b[1;33m=\u001b[0m \u001b[0mnp\u001b[0m\u001b[1;33m.\u001b[0m\u001b[0mfliplr\u001b[0m\u001b[1;33m(\u001b[0m\u001b[0mrow\u001b[0m\u001b[1;33m)\u001b[0m\u001b[1;33m\u001b[0m\u001b[1;33m\u001b[0m\u001b[0m\n\u001b[0m\u001b[0;32m      9\u001b[0m         \u001b[1;32melse\u001b[0m\u001b[1;33m:\u001b[0m \u001b[0mb\u001b[0m\u001b[1;33m[\u001b[0m\u001b[0mz\u001b[0m\u001b[1;33m]\u001b[0m \u001b[1;33m=\u001b[0m \u001b[0mrow\u001b[0m\u001b[1;33m\u001b[0m\u001b[1;33m\u001b[0m\u001b[0m\n\u001b[0;32m     10\u001b[0m         \u001b[0mz\u001b[0m\u001b[1;33m+=\u001b[0m\u001b[1;36m1\u001b[0m\u001b[1;33m\u001b[0m\u001b[1;33m\u001b[0m\u001b[0m\n",
      "\u001b[1;32m<__array_function__ internals>\u001b[0m in \u001b[0;36mfliplr\u001b[1;34m(*args, **kwargs)\u001b[0m\n",
      "\u001b[1;32m~\\anaconda3\\lib\\site-packages\\numpy\\lib\\twodim_base.py\u001b[0m in \u001b[0;36mfliplr\u001b[1;34m(m)\u001b[0m\n\u001b[0;32m     91\u001b[0m     \u001b[0mm\u001b[0m \u001b[1;33m=\u001b[0m \u001b[0masanyarray\u001b[0m\u001b[1;33m(\u001b[0m\u001b[0mm\u001b[0m\u001b[1;33m)\u001b[0m\u001b[1;33m\u001b[0m\u001b[1;33m\u001b[0m\u001b[0m\n\u001b[0;32m     92\u001b[0m     \u001b[1;32mif\u001b[0m \u001b[0mm\u001b[0m\u001b[1;33m.\u001b[0m\u001b[0mndim\u001b[0m \u001b[1;33m<\u001b[0m \u001b[1;36m2\u001b[0m\u001b[1;33m:\u001b[0m\u001b[1;33m\u001b[0m\u001b[1;33m\u001b[0m\u001b[0m\n\u001b[1;32m---> 93\u001b[1;33m         \u001b[1;32mraise\u001b[0m \u001b[0mValueError\u001b[0m\u001b[1;33m(\u001b[0m\u001b[1;34m\"Input must be >= 2-d.\"\u001b[0m\u001b[1;33m)\u001b[0m\u001b[1;33m\u001b[0m\u001b[1;33m\u001b[0m\u001b[0m\n\u001b[0m\u001b[0;32m     94\u001b[0m     \u001b[1;32mreturn\u001b[0m \u001b[0mm\u001b[0m\u001b[1;33m[\u001b[0m\u001b[1;33m:\u001b[0m\u001b[1;33m,\u001b[0m \u001b[1;33m:\u001b[0m\u001b[1;33m:\u001b[0m\u001b[1;33m-\u001b[0m\u001b[1;36m1\u001b[0m\u001b[1;33m]\u001b[0m\u001b[1;33m\u001b[0m\u001b[1;33m\u001b[0m\u001b[0m\n\u001b[0;32m     95\u001b[0m \u001b[1;33m\u001b[0m\u001b[0m\n",
      "\u001b[1;31mValueError\u001b[0m: Input must be >= 2-d."
     ]
    }
   ],
   "source": [
    "def zad6(mat):\n",
    "    rows, cols = mat.shape\n",
    "    cng=True\n",
    "    z=0\n",
    "    b = np.zeros((rows,cols))\n",
    "    for row in mat:\n",
    "        if cng:\n",
    "            b[z] = np.fliplr(row)\n",
    "        else: b[z] = row\n",
    "        z+=1\n",
    "        cng= !cng\n",
    "    return b\n",
    "\n",
    "if __name__ == \"__main__\":\n",
    "\n",
    "    a = np.array([[0.3, 1, -5],\n",
    "                  [-1, 4, 0],\n",
    "                  [1, 5, 2]])\n",
    "    qqq = zad6(a)\n",
    "    qqq\n",
    "        "
   ]
  },
  {
   "cell_type": "code",
   "execution_count": null,
   "id": "ae5aa3a7",
   "metadata": {},
   "outputs": [],
   "source": []
  }
 ],
 "metadata": {
  "kernelspec": {
   "display_name": "Python 3",
   "language": "python",
   "name": "python3"
  },
  "language_info": {
   "codemirror_mode": {
    "name": "ipython",
    "version": 3
   },
   "file_extension": ".py",
   "mimetype": "text/x-python",
   "name": "python",
   "nbconvert_exporter": "python",
   "pygments_lexer": "ipython3",
   "version": "3.8.8"
  }
 },
 "nbformat": 4,
 "nbformat_minor": 5
}
