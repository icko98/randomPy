{
 "cells": [
  {
   "cell_type": "code",
   "execution_count": 9,
   "id": "1d1a8f75",
   "metadata": {},
   "outputs": [
    {
     "name": "stdout",
     "output_type": "stream",
     "text": [
      "5\n",
      "dusan\n"
     ]
    }
   ],
   "source": [
    "x = input()\n",
    "x = int(x)\n",
    "if x == 5:\n",
    "    print(\"dusan\")\n",
    "else:\n",
    "    print(\"nije dusan\")\n"
   ]
  }
 ],
 "metadata": {
  "kernelspec": {
   "display_name": "Python 3",
   "language": "python",
   "name": "python3"
  },
  "language_info": {
   "codemirror_mode": {
    "name": "ipython",
    "version": 3
   },
   "file_extension": ".py",
   "mimetype": "text/x-python",
   "name": "python",
   "nbconvert_exporter": "python",
   "pygments_lexer": "ipython3",
   "version": "3.8.8"
  }
 },
 "nbformat": 4,
 "nbformat_minor": 5
}
