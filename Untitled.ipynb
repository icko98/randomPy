{
 "cells": [
  {
   "cell_type": "code",
   "execution_count": 1,
   "id": "d1d50a18-9633-4e98-ba7c-77a58bc10209",
   "metadata": {},
   "outputs": [],
   "source": [
    "import numpy as np;\n",
    "import pandas as pd;\n",
    "import matplotlib.pyplot as plt;"
   ]
  },
  {
   "cell_type": "code",
   "execution_count": null,
   "id": "3dc4ce61-f0cf-4824-ae39-64551ab7c5b9",
   "metadata": {},
   "outputs": [],
   "source": []
  },
  {
   "cell_type": "code",
   "execution_count": 2,
   "id": "7315b192-9aba-4913-bfae-137af4e5aa9f",
   "metadata": {},
   "outputs": [
    {
     "data": {
      "text/plain": [
       "array([[-0.41427558, -0.35865607,  1.94788154],\n",
       "       [-0.13074879,  0.49322336, -1.28868542],\n",
       "       [ 0.37726541, -0.64015688, -0.4983696 ],\n",
       "       [ 0.81601639,  0.03876978, -2.25118302],\n",
       "       [ 0.68304532, -1.13722485,  0.16006642],\n",
       "       [-1.51922026, -0.37467384, -1.48929136]])"
      ]
     },
     "execution_count": 2,
     "metadata": {},
     "output_type": "execute_result"
    }
   ],
   "source": [
    "arr = np.random.randn(6, 3)\n",
    "arr\n"
   ]
  },
  {
   "cell_type": "code",
   "execution_count": 3,
   "id": "31611e7e-d23e-4a76-abdf-2102c92dd610",
   "metadata": {},
   "outputs": [
    {
     "data": {
      "text/plain": [
       "array([[ 3.77151255, -0.3333422 , -0.29159133],\n",
       "       [-0.3333422 ,  2.21686824, -0.72650544],\n",
       "       [-0.29159133, -0.72650544, 13.01475984]])"
      ]
     },
     "execution_count": 3,
     "metadata": {},
     "output_type": "execute_result"
    }
   ],
   "source": [
    "np.dot(arr.T, arr)"
   ]
  },
  {
   "cell_type": "code",
   "execution_count": 4,
   "id": "1931f503-6982-4c8b-922b-96efe960d6a5",
   "metadata": {},
   "outputs": [],
   "source": [
    "x= np.random.randn(8)"
   ]
  },
  {
   "cell_type": "code",
   "execution_count": 5,
   "id": "c862e1ef-ec26-4b29-a179-9fcb5e7de7af",
   "metadata": {},
   "outputs": [],
   "source": [
    "y= np.random.randn(8)"
   ]
  },
  {
   "cell_type": "code",
   "execution_count": 6,
   "id": "e81f6b30-cfb6-4e3c-9538-1da5484d382e",
   "metadata": {},
   "outputs": [
    {
     "data": {
      "text/plain": [
       "array([ 0.49329126, -0.44596581,  1.33445908, -0.08700457,  0.19972765,\n",
       "        0.35262024, -0.98721964, -0.25127651])"
      ]
     },
     "execution_count": 6,
     "metadata": {},
     "output_type": "execute_result"
    }
   ],
   "source": [
    "x"
   ]
  },
  {
   "cell_type": "code",
   "execution_count": 7,
   "id": "c7233a7b-a240-40c0-87ed-e4bef3ec12ac",
   "metadata": {},
   "outputs": [
    {
     "data": {
      "text/plain": [
       "array([ 0.14611602, -0.81477813, -1.68903622,  0.99264912,  0.29303712,\n",
       "       -0.10233455,  0.69828295, -1.41707673])"
      ]
     },
     "execution_count": 7,
     "metadata": {},
     "output_type": "execute_result"
    }
   ],
   "source": [
    "y"
   ]
  },
  {
   "cell_type": "code",
   "execution_count": 8,
   "id": "1f3d1423-ec9d-40d6-87b2-7e8b2357f89e",
   "metadata": {},
   "outputs": [
    {
     "data": {
      "text/plain": [
       "array([ 0.49329126, -0.44596581,  1.33445908,  0.99264912,  0.29303712,\n",
       "        0.35262024,  0.69828295, -0.25127651])"
      ]
     },
     "execution_count": 8,
     "metadata": {},
     "output_type": "execute_result"
    }
   ],
   "source": [
    "np.maximum(x,y)"
   ]
  },
  {
   "cell_type": "code",
   "execution_count": 9,
   "id": "fc88da75-1489-4bae-9ade-4d7da0783213",
   "metadata": {},
   "outputs": [],
   "source": [
    "points= np.arange(-5,5,0.01)\n",
    "xs, ys = np.meshgrid(points, points)"
   ]
  },
  {
   "cell_type": "code",
   "execution_count": 10,
   "id": "5ec21026-4c0c-45f8-abc1-61ca0883192c",
   "metadata": {},
   "outputs": [
    {
     "data": {
      "text/plain": [
       "array([[-5.  , -4.99, -4.98, ...,  4.97,  4.98,  4.99],\n",
       "       [-5.  , -4.99, -4.98, ...,  4.97,  4.98,  4.99],\n",
       "       [-5.  , -4.99, -4.98, ...,  4.97,  4.98,  4.99],\n",
       "       ...,\n",
       "       [-5.  , -4.99, -4.98, ...,  4.97,  4.98,  4.99],\n",
       "       [-5.  , -4.99, -4.98, ...,  4.97,  4.98,  4.99],\n",
       "       [-5.  , -4.99, -4.98, ...,  4.97,  4.98,  4.99]])"
      ]
     },
     "execution_count": 10,
     "metadata": {},
     "output_type": "execute_result"
    }
   ],
   "source": [
    "xs"
   ]
  },
  {
   "cell_type": "code",
   "execution_count": 11,
   "id": "eae6d70b-8ce7-4cb3-9034-2432e86ea9fd",
   "metadata": {},
   "outputs": [],
   "source": [
    "z=np.sqrt(xs**2 + ys**2)"
   ]
  },
  {
   "cell_type": "code",
   "execution_count": 12,
   "id": "90656aee-11ac-47c7-a0fb-e9e5a2df8203",
   "metadata": {},
   "outputs": [
    {
     "data": {
      "text/plain": [
       "array([[7.07106781, 7.06400028, 7.05693985, ..., 7.04988652, 7.05693985,\n",
       "        7.06400028],\n",
       "       [7.06400028, 7.05692568, 7.04985815, ..., 7.04279774, 7.04985815,\n",
       "        7.05692568],\n",
       "       [7.05693985, 7.04985815, 7.04278354, ..., 7.03571603, 7.04278354,\n",
       "        7.04985815],\n",
       "       ...,\n",
       "       [7.04988652, 7.04279774, 7.03571603, ..., 7.0286414 , 7.03571603,\n",
       "        7.04279774],\n",
       "       [7.05693985, 7.04985815, 7.04278354, ..., 7.03571603, 7.04278354,\n",
       "        7.04985815],\n",
       "       [7.06400028, 7.05692568, 7.04985815, ..., 7.04279774, 7.04985815,\n",
       "        7.05692568]])"
      ]
     },
     "execution_count": 12,
     "metadata": {},
     "output_type": "execute_result"
    }
   ],
   "source": [
    "z"
   ]
  },
  {
   "cell_type": "code",
   "execution_count": 13,
   "id": "125329c2-37d4-4eb6-8433-69bd0eaea3df",
   "metadata": {},
   "outputs": [
    {
     "data": {
      "text/plain": [
       "<matplotlib.colorbar.Colorbar at 0x1beef0a4b20>"
      ]
     },
     "execution_count": 13,
     "metadata": {},
     "output_type": "execute_result"
    },
    {
     "data": {
      "image/png": "[encoded data removed]",
      "text/plain": [
       "<Figure size 432x288 with 2 Axes>"
      ]
     },
     "metadata": {
      "needs_background": "light"
     },
     "output_type": "display_data"
    }
   ],
   "source": [
    "plt.imshow(z, cmap=plt.cm.gray); plt.colorbar()"
   ]
  },
  {
   "cell_type": "code",
   "execution_count": 14,
   "id": "63dc009b-ad2f-481b-87d3-cb8765c09770",
   "metadata": {},
   "outputs": [
    {
     "data": {
      "text/plain": [
       "array([[-0.68315224, -0.60985648,  1.68200942, -0.36546148],\n",
       "       [-0.40078103,  0.45717785,  0.01175533, -0.8604626 ],\n",
       "       [-0.26093657,  2.1358408 , -0.112852  , -0.34569434],\n",
       "       [ 0.88033553,  1.03882789,  0.45595533,  0.53005204]])"
      ]
     },
     "execution_count": 14,
     "metadata": {},
     "output_type": "execute_result"
    }
   ],
   "source": [
    "arr2=np.random.randn(4,4)\n",
    "arr2"
   ]
  },
  {
   "cell_type": "code",
   "execution_count": 15,
   "id": "f448fae3-a9fd-43b9-a9ec-d46fb80b1f20",
   "metadata": {},
   "outputs": [
    {
     "data": {
      "text/plain": [
       "array([[-2, -2,  2, -2],\n",
       "       [-2,  2,  2, -2],\n",
       "       [-2,  2, -2, -2],\n",
       "       [ 2,  2,  2,  2]])"
      ]
     },
     "execution_count": 15,
     "metadata": {},
     "output_type": "execute_result"
    }
   ],
   "source": [
    "np.where(arr2>0,2,-2)"
   ]
  },
  {
   "cell_type": "code",
   "execution_count": 16,
   "id": "6cba8c85-b702-43d1-a04c-2b4fc7f282a2",
   "metadata": {},
   "outputs": [],
   "source": [
    "arr3=np.random.randn(4,4)"
   ]
  },
  {
   "cell_type": "code",
   "execution_count": 17,
   "id": "c503ed24-513b-482e-9a7b-419cf66e7cda",
   "metadata": {},
   "outputs": [
    {
     "data": {
      "text/plain": [
       "-0.04488571351092373"
      ]
     },
     "execution_count": 17,
     "metadata": {},
     "output_type": "execute_result"
    }
   ],
   "source": [
    "arr3.mean()"
   ]
  },
  {
   "cell_type": "code",
   "execution_count": 18,
   "id": "d6a08308-dd7e-4dc5-bf18-c4f0da1cfcd8",
   "metadata": {},
   "outputs": [
    {
     "data": {
      "text/plain": [
       "-0.7181714161747796"
      ]
     },
     "execution_count": 18,
     "metadata": {},
     "output_type": "execute_result"
    }
   ],
   "source": [
    "arr3.sum()"
   ]
  },
  {
   "cell_type": "code",
   "execution_count": 19,
   "id": "8e2c2683-301a-4b16-b97f-502df0e60271",
   "metadata": {},
   "outputs": [
    {
     "data": {
      "text/plain": [
       "array([[-0.28854973, -0.52060836,  0.43460606,  0.37760987],\n",
       "       [ 0.36958809, -0.10103089, -0.62008155,  0.09621706],\n",
       "       [ 0.95783623, -0.29090309,  0.05740348, -0.15773807],\n",
       "       [-0.44540552, -1.5766699 ,  1.42110519, -0.4315503 ]])"
      ]
     },
     "execution_count": 19,
     "metadata": {},
     "output_type": "execute_result"
    }
   ],
   "source": [
    "arr3"
   ]
  },
  {
   "cell_type": "code",
   "execution_count": 20,
   "id": "eccd7c79-9f3a-44fa-8abd-db39d67c4861",
   "metadata": {},
   "outputs": [
    {
     "data": {
      "text/plain": [
       "array([ 0.00076446, -0.06382682,  0.14164964, -0.25813013])"
      ]
     },
     "execution_count": 20,
     "metadata": {},
     "output_type": "execute_result"
    }
   ],
   "source": [
    "arr3.mean(axis=1)"
   ]
  },
  {
   "cell_type": "code",
   "execution_count": 21,
   "id": "bc8a55c9-f6b6-4d43-a44e-e6b9fdbdb338",
   "metadata": {},
   "outputs": [],
   "source": [
    "np.save(\"das_array\", arr3)"
   ]
  },
  {
   "cell_type": "code",
   "execution_count": 23,
   "id": "96703625-f144-4f09-8ca7-5dee24063864",
   "metadata": {},
   "outputs": [],
   "source": [
    "data= pd.read_csv('example.txt', delimiter=',', names=['x','y','z'])"
   ]
  },
  {
   "cell_type": "code",
   "execution_count": 24,
   "id": "74d7ed77-e10a-4913-9c1d-78e56cf08070",
   "metadata": {},
   "outputs": [
    {
     "data": {
      "text/plain": [
       "array([[' \"cy\": \"Danvers\"', ' \"ll\": [ 42.576698', ' -70.954903 ] }'],\n",
       "       [nan, nan, nan],\n",
       "       [' -77.043098 ] }', nan, nan],\n",
       "       ...,\n",
       "       [nan, nan, nan],\n",
       "       [nan, nan, nan],\n",
       "       [' -77.162102 ] }', nan, nan]], dtype=object)"
      ]
     },
     "execution_count": 24,
     "metadata": {},
     "output_type": "execute_result"
    }
   ],
   "source": [
    "data.values"
   ]
  },
  {
   "cell_type": "code",
   "execution_count": 27,
   "id": "0fa1498e-d175-445d-b936-6eb43267d05e",
   "metadata": {},
   "outputs": [],
   "source": [
    "obj=pd.Series(range(3), index=['a','b','c'])"
   ]
  },
  {
   "cell_type": "code",
   "execution_count": 29,
   "id": "bde4d15a-5399-47fd-b60f-5ca5833eb689",
   "metadata": {},
   "outputs": [
    {
     "data": {
      "text/plain": [
       "Index(['a', 'b', 'c'], dtype='object')"
      ]
     },
     "execution_count": 29,
     "metadata": {},
     "output_type": "execute_result"
    }
   ],
   "source": [
    "obj\n",
    "obj.index"
   ]
  },
  {
   "cell_type": "code",
   "execution_count": 30,
   "id": "fda8d1db-6a16-4acb-adc2-4aa19194530a",
   "metadata": {},
   "outputs": [],
   "source": [
    "obj2=pd.Series([3.4,5.1,-1.3,66.3], index=['a','b','c','d'])"
   ]
  },
  {
   "cell_type": "code",
   "execution_count": 31,
   "id": "cfdb8d59-e6db-484f-9a7c-d3038c0cfe84",
   "metadata": {},
   "outputs": [
    {
     "data": {
      "text/plain": [
       "a     3.4\n",
       "b     5.1\n",
       "c    -1.3\n",
       "d    66.3\n",
       "dtype: float64"
      ]
     },
     "execution_count": 31,
     "metadata": {},
     "output_type": "execute_result"
    }
   ],
   "source": [
    "obj2\n"
   ]
  },
  {
   "cell_type": "code",
   "execution_count": 35,
   "id": "87f78de7-c103-4d76-83e8-179944563132",
   "metadata": {},
   "outputs": [],
   "source": [
    "obj3=obj2.reindex(['a', 'b', 'c', 'd', 'e'],fill_value=0)"
   ]
  },
  {
   "cell_type": "code",
   "execution_count": 36,
   "id": "f935031b-0e5f-4746-a505-32da21688cc7",
   "metadata": {},
   "outputs": [
    {
     "data": {
      "text/plain": [
       "a     3.4\n",
       "b     5.1\n",
       "c    -1.3\n",
       "d    66.3\n",
       "e     0.0\n",
       "dtype: float64"
      ]
     },
     "execution_count": 36,
     "metadata": {},
     "output_type": "execute_result"
    }
   ],
   "source": [
    "obj3"
   ]
  },
  {
   "cell_type": "code",
   "execution_count": 38,
   "id": "f3512129-5156-4c20-abf8-dbc260250392",
   "metadata": {},
   "outputs": [
    {
     "data": {
      "text/plain": [
       "0      blue\n",
       "2    purple\n",
       "4    yellow\n",
       "dtype: object"
      ]
     },
     "execution_count": 38,
     "metadata": {},
     "output_type": "execute_result"
    }
   ],
   "source": [
    "obj4 = pd.Series(['blue', 'purple', 'yellow'], index=[0, 2, 4])\n",
    "obj4"
   ]
  },
  {
   "cell_type": "code",
   "execution_count": 44,
   "id": "6a44a529-9b7c-4c91-843e-69bd9d975f53",
   "metadata": {},
   "outputs": [
    {
     "data": {
      "text/plain": [
       "0      blue\n",
       "2    purple\n",
       "4    yellow\n",
       "dtype: object"
      ]
     },
     "execution_count": 44,
     "metadata": {},
     "output_type": "execute_result"
    }
   ],
   "source": [
    "obj5=obj4.reindex(range(15), method='ffill')\n",
    "obj5\n",
    "obj4\n"
   ]
  },
  {
   "cell_type": "code",
   "execution_count": 46,
   "id": "b1644fe0-86da-4c5a-816d-cf79472d9be6",
   "metadata": {},
   "outputs": [],
   "source": [
    "frame = pd.DataFrame(np.arange(9).reshape((3, 3)), index=['a', 'c', 'd'], columns=['Ohio', 'Texas', 'California'])"
   ]
  },
  {
   "cell_type": "code",
   "execution_count": 49,
   "id": "600c9780-fcb4-4b59-a2ca-951bb1fb03c4",
   "metadata": {},
   "outputs": [
    {
     "data": {
      "text/html": [
       "<div>\n",
       "<style scoped>\n",
       "    .dataframe tbody tr th:only-of-type {\n",
       "        vertical-align: middle;\n",
       "    }\n",
       "\n",
       "    .dataframe tbody tr th {\n",
       "        vertical-align: top;\n",
       "    }\n",
       "\n",
       "    .dataframe thead th {\n",
       "        text-align: right;\n",
       "    }\n",
       "</style>\n",
       "<table border=\"1\" class=\"dataframe\">\n",
       "  <thead>\n",
       "    <tr style=\"text-align: right;\">\n",
       "      <th></th>\n",
       "      <th>Ohio</th>\n",
       "      <th>Texas</th>\n",
       "      <th>California</th>\n",
       "    </tr>\n",
       "  </thead>\n",
       "  <tbody>\n",
       "    <tr>\n",
       "      <th>a</th>\n",
       "      <td>0.0</td>\n",
       "      <td>1.0</td>\n",
       "      <td>2.0</td>\n",
       "    </tr>\n",
       "    <tr>\n",
       "      <th>b</th>\n",
       "      <td>NaN</td>\n",
       "      <td>NaN</td>\n",
       "      <td>NaN</td>\n",
       "    </tr>\n",
       "    <tr>\n",
       "      <th>c</th>\n",
       "      <td>3.0</td>\n",
       "      <td>4.0</td>\n",
       "      <td>5.0</td>\n",
       "    </tr>\n",
       "    <tr>\n",
       "      <th>d</th>\n",
       "      <td>6.0</td>\n",
       "      <td>7.0</td>\n",
       "      <td>8.0</td>\n",
       "    </tr>\n",
       "  </tbody>\n",
       "</table>\n",
       "</div>"
      ],
      "text/plain": [
       "   Ohio  Texas  California\n",
       "a   0.0    1.0         2.0\n",
       "b   NaN    NaN         NaN\n",
       "c   3.0    4.0         5.0\n",
       "d   6.0    7.0         8.0"
      ]
     },
     "execution_count": 49,
     "metadata": {},
     "output_type": "execute_result"
    }
   ],
   "source": [
    "frame.reindex(['a','b','c','d'])"
   ]
  },
  {
   "cell_type": "code",
   "execution_count": 50,
   "id": "43266aa0-d667-444b-af87-386f386dbfc5",
   "metadata": {},
   "outputs": [
    {
     "data": {
      "text/html": [
       "<div>\n",
       "<style scoped>\n",
       "    .dataframe tbody tr th:only-of-type {\n",
       "        vertical-align: middle;\n",
       "    }\n",
       "\n",
       "    .dataframe tbody tr th {\n",
       "        vertical-align: top;\n",
       "    }\n",
       "\n",
       "    .dataframe thead th {\n",
       "        text-align: right;\n",
       "    }\n",
       "</style>\n",
       "<table border=\"1\" class=\"dataframe\">\n",
       "  <thead>\n",
       "    <tr style=\"text-align: right;\">\n",
       "      <th></th>\n",
       "      <th>Texas</th>\n",
       "      <th>Utah</th>\n",
       "      <th>California</th>\n",
       "    </tr>\n",
       "  </thead>\n",
       "  <tbody>\n",
       "    <tr>\n",
       "      <th>a</th>\n",
       "      <td>1</td>\n",
       "      <td>NaN</td>\n",
       "      <td>2</td>\n",
       "    </tr>\n",
       "    <tr>\n",
       "      <th>c</th>\n",
       "      <td>4</td>\n",
       "      <td>NaN</td>\n",
       "      <td>5</td>\n",
       "    </tr>\n",
       "    <tr>\n",
       "      <th>d</th>\n",
       "      <td>7</td>\n",
       "      <td>NaN</td>\n",
       "      <td>8</td>\n",
       "    </tr>\n",
       "  </tbody>\n",
       "</table>\n",
       "</div>"
      ],
      "text/plain": [
       "   Texas  Utah  California\n",
       "a      1   NaN           2\n",
       "c      4   NaN           5\n",
       "d      7   NaN           8"
      ]
     },
     "execution_count": 50,
     "metadata": {},
     "output_type": "execute_result"
    }
   ],
   "source": [
    "states = ['Texas', 'Utah', 'California']\n",
    "frame.reindex(columns=states)"
   ]
  },
  {
   "cell_type": "code",
   "execution_count": 54,
   "id": "dc6c7497-77d1-4ac5-b41e-6c224dcfc8d3",
   "metadata": {},
   "outputs": [
    {
     "data": {
      "text/html": [
       "<div>\n",
       "<style scoped>\n",
       "    .dataframe tbody tr th:only-of-type {\n",
       "        vertical-align: middle;\n",
       "    }\n",
       "\n",
       "    .dataframe tbody tr th {\n",
       "        vertical-align: top;\n",
       "    }\n",
       "\n",
       "    .dataframe thead th {\n",
       "        text-align: right;\n",
       "    }\n",
       "</style>\n",
       "<table border=\"1\" class=\"dataframe\">\n",
       "  <thead>\n",
       "    <tr style=\"text-align: right;\">\n",
       "      <th></th>\n",
       "      <th>Texas</th>\n",
       "      <th>Utah</th>\n",
       "      <th>California</th>\n",
       "    </tr>\n",
       "  </thead>\n",
       "  <tbody>\n",
       "    <tr>\n",
       "      <th>a</th>\n",
       "      <td>1.0</td>\n",
       "      <td>NaN</td>\n",
       "      <td>2.0</td>\n",
       "    </tr>\n",
       "    <tr>\n",
       "      <th>b</th>\n",
       "      <td>NaN</td>\n",
       "      <td>NaN</td>\n",
       "      <td>NaN</td>\n",
       "    </tr>\n",
       "    <tr>\n",
       "      <th>c</th>\n",
       "      <td>4.0</td>\n",
       "      <td>NaN</td>\n",
       "      <td>5.0</td>\n",
       "    </tr>\n",
       "    <tr>\n",
       "      <th>d</th>\n",
       "      <td>7.0</td>\n",
       "      <td>NaN</td>\n",
       "      <td>8.0</td>\n",
       "    </tr>\n",
       "  </tbody>\n",
       "</table>\n",
       "</div>"
      ],
      "text/plain": [
       "   Texas  Utah  California\n",
       "a    1.0   NaN         2.0\n",
       "b    NaN   NaN         NaN\n",
       "c    4.0   NaN         5.0\n",
       "d    7.0   NaN         8.0"
      ]
     },
     "execution_count": 54,
     "metadata": {},
     "output_type": "execute_result"
    }
   ],
   "source": [
    "frame.reindex(index=['a','b','c','d'],columns=states)"
   ]
  },
  {
   "cell_type": "code",
   "execution_count": 56,
   "id": "09f3c26b-6a19-4a17-8e15-5ecac4ceb433",
   "metadata": {},
   "outputs": [
    {
     "data": {
      "text/plain": [
       "a    0.0\n",
       "b    1.0\n",
       "d    3.0\n",
       "e    4.0\n",
       "dtype: float64"
      ]
     },
     "execution_count": 56,
     "metadata": {},
     "output_type": "execute_result"
    }
   ],
   "source": [
    "obj = pd.Series(np.arange(5.), index=['a', 'b', 'c', 'd', 'e'])\n",
    "new_obj=obj.drop('c')\n",
    "new_obj"
   ]
  },
  {
   "cell_type": "code",
   "execution_count": null,
   "id": "2b917748-7586-4d39-bd30-060409fe876d",
   "metadata": {},
   "outputs": [],
   "source": []
  }
 ],
 "metadata": {
  "kernelspec": {
   "display_name": "Python 3",
   "language": "python",
   "name": "python3"
  },
  "language_info": {
   "codemirror_mode": {
    "name": "ipython",
    "version": 3
   },
   "file_extension": ".py",
   "mimetype": "text/x-python",
   "name": "python",
   "nbconvert_exporter": "python",
   "pygments_lexer": "ipython3",
   "version": "3.8.8"
  }
 },
 "nbformat": 4,
 "nbformat_minor": 5
}
