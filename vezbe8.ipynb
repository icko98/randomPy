{
 "cells": [
  {
   "cell_type": "code",
   "execution_count": 3,
   "id": "832a8588",
   "metadata": {},
   "outputs": [],
   "source": [
    "def integrate_trapezoid(f,a,b,intervals):\n",
    "    I = 0\n",
    "    x=np.linspace(a,b,intervals +1)\n",
    "    fX = f(x)\n",
    "    width = (b-a)/intervals\n",
    "    \n",
    "    for it in range(intervals):\n",
    "        I=I+(fX[it] + fX[it+1])/2*width\n",
    "        \n",
    "    return I"
   ]
  },
  {
   "cell_type": "code",
   "execution_count": 5,
   "id": "1d04ed40",
   "metadata": {},
   "outputs": [],
   "source": [
    "def integrate_simpson(f,a,b,intervals):\n",
    "    I=0\n",
    "    x=np.linspace(a,b,intervals+1)\n",
    "    fX=f(x)\n",
    "    width = (b-a)/intervals\n",
    "    for it in range(0, intervals, 2):\n",
    "        I= I +(fX[it] + 4*fX[it+1] +fX[it+2]) *width/3\n",
    "    return I"
   ]
  },
  {
   "cell_type": "code",
   "execution_count": 17,
   "id": "4768f3fa",
   "metadata": {},
   "outputs": [
    {
     "data": {
      "text/plain": [
       "1.0006975270845913"
      ]
     },
     "execution_count": 17,
     "metadata": {},
     "output_type": "execute_result"
    }
   ],
   "source": [
    "import numpy as np\n",
    "f = lambda x: np.sin(x)\n",
    "a = 0\n",
    "b = np.pi*3 /2\n",
    "\n",
    "z = integrate_simpson(f, a, b, 8)\n",
    "z\n"
   ]
  },
  {
   "cell_type": "code",
   "execution_count": null,
   "id": "a0fa85d4",
   "metadata": {},
   "outputs": [],
   "source": []
  }
 ],
 "metadata": {
  "kernelspec": {
   "display_name": "Python 3",
   "language": "python",
   "name": "python3"
  },
  "language_info": {
   "codemirror_mode": {
    "name": "ipython",
    "version": 3
   },
   "file_extension": ".py",
   "mimetype": "text/x-python",
   "name": "python",
   "nbconvert_exporter": "python",
   "pygments_lexer": "ipython3",
   "version": "3.8.8"
  }
 },
 "nbformat": 4,
 "nbformat_minor": 5
}
