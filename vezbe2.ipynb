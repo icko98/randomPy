{
 "cells": [
  {
   "cell_type": "code",
   "execution_count": 3,
   "id": "3ea41bdf",
   "metadata": {},
   "outputs": [],
   "source": [
    "import numpy as np\n",
    "def upper_triangular(A,b):\n",
    "    n, _ = A.shape\n",
    "    for it1 in range(n-1):\n",
    "        for it2 in range(it1+1, n):\n",
    "            m= A[it2, it1]/ A[it1, it1]\n",
    "            A[it2, ] = A[ it2, ] - A[it1, ] * m\n",
    "            b[it2] = b[it2] - b[it1] * m\n",
    "        \n",
    "    return A,b\n",
    "def gauss(A,b):\n",
    "    A,b = upper_triangular(A,b)\n",
    "    n, _ = A.shape\n",
    "    x=np.zeros(n)\n",
    "    for it in range(n-1, -1, -1):\n",
    "        x[it]= (b[it] - np.matmul(A[it,it+1:] , x[it+1:])) / A[it, it]\n",
    "    return x"
   ]
  },
  {
   "cell_type": "code",
   "execution_count": 7,
   "id": "3414661c",
   "metadata": {},
   "outputs": [
    {
     "name": "stdout",
     "output_type": "stream",
     "text": [
      "[5. 1. 3.]\n"
     ]
    }
   ],
   "source": [
    " a = np.array([[5., 8., 5.],\n",
    "                  [4., 2., 7.],\n",
    "                  [8., 5., 8.]])\n",
    "b = np.array([48., 43., 69.])\n",
    "\n",
    "print(gauss(a, b))"
   ]
  },
  {
   "cell_type": "code",
   "execution_count": 10,
   "id": "5887c2d3",
   "metadata": {},
   "outputs": [
    {
     "name": "stdout",
     "output_type": "stream",
     "text": [
      "[ 3.00000000e+00 -1.50000000e+00  1.48029737e-16]\n"
     ]
    }
   ],
   "source": [
    "a = np.array([[3. , 4. , 1. ],\n",
    "            [1. , 0. , 1. ],\n",
    "            [2. , 3. , 2. ]])\n",
    "b = np.array([3. , 3. , 1.5])\n",
    "\n",
    "print(gauss(a,b))"
   ]
  },
  {
   "cell_type": "code",
   "execution_count": 17,
   "id": "707136a6",
   "metadata": {},
   "outputs": [
    {
     "name": "stdout",
     "output_type": "stream",
     "text": [
      "[1. 0. 2. 3.]\n"
     ]
    }
   ],
   "source": [
    "a = np.array([[1. , 0.1 , 0.1**2, 0.1**3],\n",
    "              [1. , 0.3 , 0.3**2, 0.3**3],\n",
    "              [1. , 0.6 , 0.6**2, 0.6**3],\n",
    "              [1. , 1.2 , 1.2**2, 1.2**3]])\n",
    "x = np.zeros(4)\n",
    "b = np.array([1.023 , 1.261, 2.368 , 9.064])\n",
    "print(gauss(a,b))"
   ]
  },
  {
   "cell_type": "code",
   "execution_count": 26,
   "id": "698d6ca0",
   "metadata": {},
   "outputs": [
    {
     "name": "stdout",
     "output_type": "stream",
     "text": [
      "[-0.  0.  2.]\n"
     ]
    }
   ],
   "source": [
    "a = np.array([[-1. , 2. , -3. ],\n",
    "              [3. , -4. , -2. ],\n",
    "              [-4. ,-4. , 4.]])\n",
    "b = np.array([[10.],\n",
    "             [14.],\n",
    "             [-15.]])\n",
    "c = np.array([[3.],\n",
    "             [3.],\n",
    "             [-3.]])\n",
    "d = np.array([[-4.],\n",
    "             [0.],\n",
    "             [-1.]])\n",
    "a = a.transpose()\n",
    "\n",
    "x = d + 2*c - b\n",
    "print(gauss(a, x))\n"
   ]
  },
  {
   "cell_type": "code",
   "execution_count": 20,
   "id": "87be72f7",
   "metadata": {},
   "outputs": [
    {
     "name": "stdout",
     "output_type": "stream",
     "text": [
      "[ 1. -4. -2.]\n"
     ]
    }
   ],
   "source": [
    "a = np.array([[-3. ,-2. , -3.],\n",
    "              [-3. , 0. , -5.],\n",
    "              [-1. , -4. , 5.]])\n",
    "b = np.array([11. , 7. , 5.])\n",
    "print(gauss(a,b))"
   ]
  }
 ],
 "metadata": {
  "kernelspec": {
   "display_name": "Python 3",
   "language": "python",
   "name": "python3"
  },
  "language_info": {
   "codemirror_mode": {
    "name": "ipython",
    "version": 3
   },
   "file_extension": ".py",
   "mimetype": "text/x-python",
   "name": "python",
   "nbconvert_exporter": "python",
   "pygments_lexer": "ipython3",
   "version": "3.8.8"
  }
 },
 "nbformat": 4,
 "nbformat_minor": 5
}
