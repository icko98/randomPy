{
 "cells": [
  {
   "cell_type": "code",
   "execution_count": null,
   "id": "62feda91",
   "metadata": {},
   "outputs": [],
   "source": [
    "from mpl_toolkits.mplot3d import Axes3D\n",
    "import numpy as np\n",
    "import matplotlib.pyplot as plt\n",
    "\n",
    "def ackley(x):\n",
    "    sum1 = 0\n",
    "    sum2 = 0\n",
    "    \n",
    "    for y in x:\n",
    "        sum1=sum1+ y*y\n",
    "        sum2=sum2+ np.cos(np.pi*2*y)\n",
    "    \n",
    "\n",
    "    ret = -20 * np.exp(-0.2 * np.sqrt(1/len(x) * sum1)) - np.exp(1/len(x) * sum2) + 20 + np.exp(1)\n",
    "    return ret\n",
    "x1v = np.arange(-5,5,0.01)\n",
    "x2v = np.arange(-5,5,0.01)\n",
    "x1,x2 = np.meshgrid(x1v,x2v)\n",
    "\n",
    "\n",
    "fig = plt.figure()\n",
    "ax = fig.gca(projection = '3d')\n",
    "f=np.zeros((len(x1), len(x2)))\n",
    "\n",
    "for i in range(0, len(x1)):\n",
    "    for j in range(0, len(x2)):\n",
    "        f[i,j] = ackley((x1[i,j], x2[i,j]))\n",
    "                        \n",
    "                        \n",
    "p=ax.plotsurface(x1,x2,f)\n",
    "plt.show()\n",
    "print(\"???\")"
   ]
  }
 ],
 "metadata": {
  "kernelspec": {
   "display_name": "Python 3",
   "language": "python",
   "name": "python3"
  },
  "language_info": {
   "codemirror_mode": {
    "name": "ipython",
    "version": 3
   },
   "file_extension": ".py",
   "mimetype": "text/x-python",
   "name": "python",
   "nbconvert_exporter": "python",
   "pygments_lexer": "ipython3",
   "version": "3.8.8"
  }
 },
 "nbformat": 4,
 "nbformat_minor": 5
}
