{
 "cells": [
  {
   "cell_type": "code",
   "execution_count": 21,
   "id": "842a35d4",
   "metadata": {},
   "outputs": [],
   "source": [
    "import numpy as np\n",
    "import matplotlib.pyplot as plt\n"
   ]
  },
  {
   "cell_type": "code",
   "execution_count": 96,
   "id": "feec8e0a",
   "metadata": {},
   "outputs": [],
   "source": [
    "def zeroFalsePosition(f, a, b, errMax=0.0001, itMax=100, plotSpeed=-1):\n",
    "    if f(a)*f(b) > 0:\n",
    "        raise Exception('Invalid input: f(a)*f(b) > 0!')\n",
    "\n",
    "    if plotSpeed <= 0:\n",
    "        return zeroFalsePositionNoPlot(f, a, b, errMax, itMax)\n",
    "    \n",
    "    return zeroFalsePositionPlot(f, a, b, errMax, itMax, plotSpeed)\n",
    "\n",
    "\n",
    "def zeroFalsePositionNoPlot(f, a, b, errMax, itMax):\n",
    "    for it in range(itMax):\n",
    "        fA = f(a)\n",
    "        fB = f(b)\n",
    "        zero = b - fB*(b - a)/(fB - fA)\n",
    "\n",
    "        fZero = f(zero)\n",
    "\n",
    "        if abs(fZero) < errMax or abs(b - a) < errMax:\n",
    "            return zero, it\n",
    "\n",
    "        if fA*fZero < 0:\n",
    "            b = zero\n",
    "        else:\n",
    "            a = zero\n",
    "\n",
    "    return zero, it\n",
    "\n",
    "def zeroFalsePositionPlot(f, a, b, errMax, itMax, plotSpeed):\n",
    "\n",
    "    x = np.linspace(a, b, 100)\n",
    "    fX = f(x)\n",
    "    fMin = min(fX)\n",
    "    fMax = max(fX)\n",
    "    plt.plot(x, fX, 'b', [a, b], [0, 0], 'k')\n",
    "\n",
    "    for it in range(itMax):\n",
    "        fA = f(a)\n",
    "        fB = f(b)\n",
    "        zero = b - fB*(b - a)/(fB - fA)\n",
    "        plt.plot([a, b], [fA, fB], 'r', zero, 0, 'rx')\n",
    "\n",
    "        fZero = f(zero)\n",
    "        \n",
    "        plt.plot([zero, zero], [fMin, fMax], 'g', zero, fZero, 'og')\n",
    "\n",
    "        if abs(fZero) < errMax or abs(b - a) < errMax:\n",
    "            break\n",
    "\n",
    "        plt.pause(1/plotSpeed)\n",
    "\n",
    "        if fA*fZero < 0:\n",
    "            b = zero\n",
    "        else:\n",
    "            a = zero\n",
    "            \n",
    "        plt.plot([zero, zero], [fMin, fMax], 'r', zero, fZero, 'og')\n",
    "\n",
    "    plt.show()\n",
    "    return zero, it + 1\n"
   ]
  },
  {
   "cell_type": "code",
   "execution_count": 23,
   "id": "50189a40",
   "metadata": {},
   "outputs": [],
   "source": [
    "def zeroBisection(f, a, b, errMax=0.001, itMax=100, plotSpeed=-1):\n",
    "    if f(a)*f(b) > 0:\n",
    "        raise Exception('Invalid parameters: f(a)*f(b) > 0!')\n",
    "\n",
    "    if plotSpeed <= 0:\n",
    "        return zeroBisectionNoPlot(f, a, b, errMax, itMax)\n",
    "\n",
    "    return zeroBisectionPlot(f, a, b, errMax, itMax, plotSpeed)\n",
    "\n",
    "def zeroBisectionNoPlot(f, a, b, errMax, itMax):\n",
    "    for it in range(itMax):\n",
    "        zero = (a + b)/2\n",
    "        fZero = f(zero)\n",
    "\n",
    "        if abs(fZero) < errMax or abs(b - a) < errMax:\n",
    "            return zero, it + 1\n",
    "        \n",
    "        if f(a)*fZero < 0:\n",
    "            b = zero\n",
    "        else:\n",
    "            a = zero\n",
    "\n",
    "    return zero, it + 1\n",
    "\n",
    "def zeroBisectionPlot(f, a, b, errMax, itMax, plotSpeed):\n",
    "\n",
    "    x = np.linspace(a, b, 100)\n",
    "    fX = f(x)\n",
    "    fMin = min(fX)\n",
    "    fMax = max(fX)\n",
    "\n",
    "    plt.plot(x, fX, 'b', [a, b], [0, 0], 'k')\n",
    "    plt.plot([a, a], [fMin, fMax], 'r', [b, b], [fMin, fMax], 'r')\n",
    "\n",
    "    for it in range(itMax):\n",
    "        zero = (a + b)/2\n",
    "        fZero = f(zero)\n",
    "\n",
    "        plt.plot([zero, zero], [fMin, fMax], 'g', zero, fZero, 'go')\n",
    "\n",
    "        if abs(fZero) < errMax or abs(b - a) < errMax:\n",
    "            break\n",
    "\n",
    "        plt.pause(1/plotSpeed)\n",
    "        \n",
    "        if f(a)*fZero < 0:\n",
    "            b = zero\n",
    "        else:\n",
    "            a = zero\n",
    "\n",
    "        plt.plot([zero, zero], [fMin, fMax], 'r', zero, fZero, 'ro')\n",
    "\n",
    "    plt.show()\n",
    "    return zero, it"
   ]
  },
  {
   "cell_type": "code",
   "execution_count": 24,
   "id": "fc73eae3",
   "metadata": {},
   "outputs": [],
   "source": [
    "def zeroNewton(f, df, x0, errMax=0.0001, itMax=100, plotSpeed=-1, plotA=-5, plotB=5):\n",
    "    if df(x0) == 0:\n",
    "        raise('Invalid input: df(x0) == 0!')\n",
    "    \n",
    "    if plotSpeed <= 0:\n",
    "        return zeroNewtonNoPlot(f, df, x0, errMax, itMax)\n",
    "    \n",
    "    return zeroNewtonPlot(f, df, x0, errMax, itMax, plotSpeed, plotA, plotB)\n",
    "\n",
    "\n",
    "def zeroNewtonNoPlot(f, df, x0, errMax, itMax):\n",
    "\n",
    "    for it in range(itMax):\n",
    "        zero = x0 - f(x0)/df(x0)\n",
    "\n",
    "        fZero = f(zero)\n",
    "        if abs(fZero) < errMax:\n",
    "            return zero, it + 1\n",
    "        \n",
    "        x0 = zero\n",
    "\n",
    "    return zero, it + 1\n",
    "\n",
    "def zeroNewtonPlot(f, df, x0, errMax, itMax, plotSpeed, plotA, plotB):\n",
    "    \n",
    "    x = np.linspace(plotA, plotB, 100)\n",
    "\n",
    "    fX = f(x)\n",
    "    fMin = min(fX)\n",
    "    fMax = max(fX)\n",
    "    plt.plot(x, fX, 'b', [plotA, plotB], [0, 0], 'k')\n",
    "\n",
    "    for it in range(itMax):\n",
    "        fX0 = f(x0)\n",
    "        zero = x0 - fX0/df(x0)\n",
    "\n",
    "        plt.plot([x0, zero], [fX0, 0], 'r', zero, 0, 'rx')\n",
    "\n",
    "        fZero = f(zero)\n",
    "        plt.plot([zero, zero], [fMin, fMax], 'g', zero, fZero, 'go')\n",
    "\n",
    "        if np.abs(fZero) < errMax:\n",
    "            break\n",
    "        plt.pause(1/plotSpeed)\n",
    "        \n",
    "        x0 = zero\n",
    "\n",
    "        plt.plot([zero, zero], [fMin, fMax], 'r', zero, fZero, 'ro')\n",
    "        \n",
    "    plt.show()\n",
    "    return zero, it + 1"
   ]
  },
  {
   "cell_type": "code",
   "execution_count": 25,
   "id": "5b913ed1",
   "metadata": {},
   "outputs": [],
   "source": [
    "def zeroSecant(f, a, b, errMax, itMax, plotSpeed):\n",
    "\n",
    "    if f(a) == f(b):\n",
    "        raise Exception('Invalid parameters: f(a) == f(b)!')\n",
    "\n",
    "    if plotSpeed <= 0:\n",
    "        return zeroSecantNoPlot(f, a, b, errMax, itMax)\n",
    "    \n",
    "    return zeroSecantPlot(f, a, b, errMax, itMax, plotSpeed)\n",
    "\n",
    "\n",
    "def zeroSecantNoPlot(f, a, b, errMax, itMax):\n",
    "    for i in range(itMax):\n",
    "        fA = f(a)\n",
    "        fB = f(b)\n",
    "        zero = b - fB*(b - a)/(fB - fA)\n",
    "\n",
    "        fZero = f(zero)\n",
    "\n",
    "        if abs(fZero) < errMax:\n",
    "            return zero, i + 1\n",
    "        \n",
    "        a = b\n",
    "        b = zero\n",
    "\n",
    "    return zero, i + 1\n",
    "\n",
    "def zeroSecantPlot(f, a, b, errMax, itMax, plotSpeed):\n",
    "    \n",
    "    x = np.linspace(a, b, 100)\n",
    "    fX = f(x)\n",
    "    fMin = np.min(fX)\n",
    "    fMax = np.max(fX)\n",
    "\n",
    "    plt.plot(x, fX, 'b', [a, b], [0, 0], 'k')\n",
    "\n",
    "    for i in range(itMax):\n",
    "        fA = f(a)\n",
    "        fB = f(b)\n",
    "        zero = b - fB*(b - a)/(fB - fA)\n",
    "        plt.plot([a, b], [fA, fB], 'r', zero, 0, 'rx')\n",
    "\n",
    "        fZero = f(zero)\n",
    "        \n",
    "        plt.plot([zero, zero], [fMin, fMax], 'g', zero, fZero, 'og')\n",
    "\n",
    "        if abs(fZero) < errMax:\n",
    "            break\n",
    "        \n",
    "        plt.pause(1/plotSpeed)\n",
    "\n",
    "\n",
    "        a = b\n",
    "        b = zero\n",
    "\n",
    "        plt.plot([zero, zero], [fMin, fMax], 'r', zero, fZero, 'og')\n",
    "\n",
    "    plt.show()\n",
    "    return zero, i + 1"
   ]
  },
  {
   "cell_type": "code",
   "execution_count": 26,
   "id": "d4d01119",
   "metadata": {},
   "outputs": [
    {
     "data": {
      "image/png": "[encoded data removed]",
      "text/plain": [
       "<Figure size 432x288 with 1 Axes>"
      ]
     },
     "metadata": {
      "needs_background": "light"
     },
     "output_type": "display_data"
    }
   ],
   "source": [
    "f= np.sin # uzmem sinus f\n",
    "a=np.pi/3\n",
    "b=4*np.pi/3\n",
    "x=np.linspace(a,b,1000)\n",
    "plt.plot([a,b], [0,0], 'black')\n",
    "\n",
    "fx= f(x)\n",
    "plt.plot(x, fx, 'blue')\n",
    "zero, it = zeroFalsePosition(f,a,b,10^-5, 100, 0.0)\n",
    "fZero=f(zero)\n",
    "plt.scatter(zero, fZero, c='g')\n",
    "\n",
    "plt.show()"
   ]
  },
  {
   "cell_type": "code",
   "execution_count": 27,
   "id": "47b92428",
   "metadata": {},
   "outputs": [
    {
     "data": {
      "image/png": "[encoded data removed]",
      "text/plain": [
       "<Figure size 432x288 with 1 Axes>"
      ]
     },
     "metadata": {
      "needs_background": "light"
     },
     "output_type": "display_data"
    }
   ],
   "source": [
    "f= np.cos\n",
    "a=np.pi/3\n",
    "b=4*np.pi/3\n",
    "x=np.linspace(a,b,1000)\n",
    "plt.plot([a,b], [0,0], 'black')\n",
    "fx= f(x)\n",
    "plt.plot(x, fx, 'blue')\n",
    "zero, it = zeroSecant(f, a, np.pi,0.01, 100, 0.0)\n",
    "fZero=f(zero)\n",
    "plt.scatter(zero, fZero, c='g')\n",
    "\n",
    "\n",
    "plt.show()"
   ]
  },
  {
   "cell_type": "code",
   "execution_count": 29,
   "id": "785721b6",
   "metadata": {},
   "outputs": [
    {
     "data": {
      "text/plain": [
       "<matplotlib.collections.PathCollection at 0x1687d1f9790>"
      ]
     },
     "execution_count": 29,
     "metadata": {},
     "output_type": "execute_result"
    },
    {
     "data": {
      "image/png": "[encoded data removed]",
      "text/plain": [
       "<Figure size 432x288 with 1 Axes>"
      ]
     },
     "metadata": {
      "needs_background": "light"
     },
     "output_type": "display_data"
    }
   ],
   "source": [
    "def f(x): \n",
    "   return 2*np.sin(x) * np.cos(x)\n",
    "a=np.pi/3\n",
    "b=np.pi*7/4\n",
    "x=np.linspace(a,b,1000)\n",
    "plt.plot([a,b], [0,0], 'black')\n",
    "fx = f(x)\n",
    "\n",
    "plt.plot(x, fx, 'blue')\n",
    "\n",
    "zero, it = zeroFalsePosition(f,a,b,10^-5, 100, 0.0)\n",
    "fZero=f(zero)\n",
    "plt.scatter(zero, fZero, c='g')\n",
    "aa=zero+0.1\n",
    "zero, it = zeroSecant(f,aa,b,10**-5, 100, 0.0)\n",
    "fZero=f(zero)\n",
    "plt.scatter(zero, fZero, c='g')\n",
    "aaa=zero+0.1\n",
    "zero, it = zeroSecant(f,aaa,b,10**-5, 100, 0.0)\n",
    "fZero=f(zero)\n",
    "plt.scatter(zero, fZero, c='g')\n",
    "\n"
   ]
  },
  {
   "cell_type": "code",
   "execution_count": 66,
   "id": "718c6f44",
   "metadata": {},
   "outputs": [
    {
     "data": {
      "text/plain": [
       "<matplotlib.collections.PathCollection at 0x1687e46fa00>"
      ]
     },
     "execution_count": 66,
     "metadata": {},
     "output_type": "execute_result"
    },
    {
     "data": {
      "image/png": "[encoded data removed]",
      "text/plain": [
       "<Figure size 432x288 with 1 Axes>"
      ]
     },
     "metadata": {
      "needs_background": "light"
     },
     "output_type": "display_data"
    }
   ],
   "source": [
    "f = lambda x: x**2-x+3\n",
    "g = lambda x: np.exp(x)\n",
    "\n",
    "a=0\n",
    "b=2\n",
    "x=np.linspace(a,b,1000)\n",
    "plt.plot([a,b], [0,0], 'black')\n",
    "fx = f(x)\n",
    "plt.plot(x, fx, 'blue')\n",
    "gx = g(x)\n",
    "plt.plot(x, gx, 'green')\n",
    "\n",
    "raz = lambda x: f(x) - g(x)\n",
    "presek, it = zeroSecant(raz,a,b,10**-5, 100, 0.0)\n",
    "gpresek = g(presek)\n",
    "plt.scatter(presek,gpresek, c='g')"
   ]
  },
  {
   "cell_type": "code",
   "execution_count": 81,
   "id": "61525924",
   "metadata": {},
   "outputs": [
    {
     "data": {
      "text/plain": [
       "<matplotlib.collections.PathCollection at 0x1687e8a5700>"
      ]
     },
     "execution_count": 81,
     "metadata": {},
     "output_type": "execute_result"
    },
    {
     "data": {
      "image/png": "[encoded data removed]",
      "text/plain": [
       "<Figure size 432x288 with 1 Axes>"
      ]
     },
     "metadata": {
      "needs_background": "light"
     },
     "output_type": "display_data"
    }
   ],
   "source": [
    "f = lambda x: x**2 - 2\n",
    "g = lambda x: -(x**2) +2\n",
    "\n",
    "a=-2\n",
    "b=2\n",
    "x=np.linspace(a,b,1000)\n",
    "plt.plot([a,b], [0,0], 'black')\n",
    "fx=f(x)\n",
    "gx=g(x)\n",
    "plt.plot(x,fx,'blue')\n",
    "plt.plot(x,gx,'green')\n",
    "jngdiff = lambda x: f(x)-g(x)\n",
    "presek, it = zeroSecant(jngdiff, a, 0, 10**-5, 100, 0.0)\n",
    "gpresek = g(presek)\n",
    "plt.scatter(presek, gpresek, c='black')\n",
    "presek, it = zeroSecant(jngdiff, 0, b, 10**-5, 100, 0.0)\n",
    "gpresek = g(presek)\n",
    "plt.scatter(presek, gpresek, c='black')"
   ]
  },
  {
   "cell_type": "code",
   "execution_count": 103,
   "id": "e3a1dccf",
   "metadata": {},
   "outputs": [
    {
     "name": "stdout",
     "output_type": "stream",
     "text": [
      "max =  0.5235987755982989\n",
      "min =  5.759586531581288\n"
     ]
    },
    {
     "data": {
      "image/png": "[encoded data removed]",
      "text/plain": [
       "<Figure size 432x288 with 1 Axes>"
      ]
     },
     "metadata": {
      "needs_background": "light"
     },
     "output_type": "display_data"
    }
   ],
   "source": [
    "f = lambda x: 2*np.sin(x) * np.cos(x) - x\n",
    "a= 0\n",
    "b=2*np.pi\n",
    "x=np.linspace(a,b,10000)\n",
    "fx=f(x)\n",
    "plt.plot([a,b], [0,0], 'black')\n",
    "plt.plot(x, fx, 'green')\n",
    "df = lambda x: 2*np.cos(2*x) - 1\n",
    "\n",
    "\n",
    "max, it = zeroFalsePosition(df, 0, np.pi/2, 10^-5,100, 0.0)\n",
    "print('max = ', max)\n",
    "fMax = f(max)\n",
    "plt.scatter(max, fMax, c='g')\n",
    "min, it = zeroFalsePosition(df, 3*np.pi/2, 2*np.pi, 10^-5,100, 0.0)\n",
    "print('min = ', min )\n",
    "fMin = f(min)\n",
    "plt.scatter(min, fMin, c='g')\n",
    "plt.show()"
   ]
  }
 ],
 "metadata": {
  "kernelspec": {
   "display_name": "Python 3",
   "language": "python",
   "name": "python3"
  },
  "language_info": {
   "codemirror_mode": {
    "name": "ipython",
    "version": 3
   },
   "file_extension": ".py",
   "mimetype": "text/x-python",
   "name": "python",
   "nbconvert_exporter": "python",
   "pygments_lexer": "ipython3",
   "version": "3.8.8"
  }
 },
 "nbformat": 4,
 "nbformat_minor": 5
}
