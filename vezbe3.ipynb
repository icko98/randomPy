{
 "cells": [
  {
   "cell_type": "code",
   "execution_count": 11,
   "id": "ee2e4f31",
   "metadata": {},
   "outputs": [],
   "source": [
    "import numpy as np\n",
    "def gauss_seidel(A, b, x0, errMax=0.0001, itMax=100):\n",
    "    n, _ = A.shape\n",
    "    x=np.zeros(n)\n",
    "    for i in range(itMax):\n",
    "        for j in range(n):\n",
    "            x[j] = 1/A[j, j] * (b[j] - np.dot(A[j, :j], x[:j]) - np.dot(A[j,j+1:], x0[j+1:]))\n",
    "        if np.max(np.abs(x-x0)) < errMax:\n",
    "            break\n",
    "        x0 = x.copy()\n",
    "    return x, i"
   ]
  },
  {
   "cell_type": "code",
   "execution_count": 14,
   "id": "0a25e26c",
   "metadata": {},
   "outputs": [
    {
     "name": "stdout",
     "output_type": "stream",
     "text": [
      "[ 2.00001666e+00  4.99995549e+00 -2.45706541e-06] 12\n"
     ]
    }
   ],
   "source": [
    "c = np.array([0. , 0. ,0.])\n",
    "A= np.array([[9. , 3. , 1.],\n",
    "             [7. , 8. , 9.],\n",
    "             [4. , 1. , 9.]])\n",
    "b= np.array([33. , 54. , 13.])\n",
    "ww , we = gauss_seidel(A, b, c)\n",
    "print(ww, we)"
   ]
  },
  {
   "cell_type": "code",
   "execution_count": 34,
   "id": "b566fa52",
   "metadata": {},
   "outputs": [
    {
     "name": "stdout",
     "output_type": "stream",
     "text": [
      "[-2.26735593 -4.04290822  2.07162958] 6\n"
     ]
    }
   ],
   "source": [
    "A= np.array([[1.1960, 0.2449 , 0.1980],\n",
    "            [0.3424, 1.0565, 0.2631],\n",
    "            [0.1747 , 0.0751, 0.9159]])\n",
    "b = np.array([-2.6827, -3.7424, 0.9456])\n",
    "c= np.zeros(3)\n",
    "ww, we = gauss_seidel(np.sin(A) , b, c)\n",
    "print(ww, we)"
   ]
  },
  {
   "cell_type": "code",
   "execution_count": 27,
   "id": "ae37788a",
   "metadata": {},
   "outputs": [
    {
     "name": "stdout",
     "output_type": "stream",
     "text": [
      "[ 1.33332062 -0.60000229] 8\n"
     ]
    }
   ],
   "source": [
    "A= np.array([[2. , 1],\n",
    "            [1. , 2]])\n",
    "b= np.array([1. , -2.])\n",
    "c=np.zeros(2)\n",
    "ww, we = gauss_seidel(A, b, c)\n",
    "ww[1] = 1/ww[1]\n",
    "print(ww, we)"
   ]
  },
  {
   "cell_type": "code",
   "execution_count": 32,
   "id": "4d12500f",
   "metadata": {},
   "outputs": [
    {
     "name": "stdout",
     "output_type": "stream",
     "text": [
      "[ 0.66664124 -0.83332062] -8.000610398132181\n"
     ]
    }
   ],
   "source": [
    "A = np.array([[4. , 2.],\n",
    "              [1. , 2.]])\n",
    "b = np.array([1. , -1.])\n",
    "c = np.zeros(2)\n",
    "ww , we = gauss_seidel(A, b, c)\n",
    "z = -4/(2*ww[0]+ww[1])\n",
    "print(ww , z)"
   ]
  }
 ],
 "metadata": {
  "kernelspec": {
   "display_name": "Python 3",
   "language": "python",
   "name": "python3"
  },
  "language_info": {
   "codemirror_mode": {
    "name": "ipython",
    "version": 3
   },
   "file_extension": ".py",
   "mimetype": "text/x-python",
   "name": "python",
   "nbconvert_exporter": "python",
   "pygments_lexer": "ipython3",
   "version": "3.8.8"
  }
 },
 "nbformat": 4,
 "nbformat_minor": 5
}
